{
 "cells": [
  {
   "cell_type": "code",
   "execution_count": 22,
   "metadata": {},
   "outputs": [],
   "source": [
    "import requests\n",
    "import urllib.request\n",
    "import time\n",
    "from bs4 import BeautifulSoup"
   ]
  },
  {
   "cell_type": "code",
   "execution_count": 79,
   "metadata": {},
   "outputs": [],
   "source": [
    "url = 'https://www.eldesconcierto.cl/2019/05/13/padres-de-nino-actor-usado-en-campana-del-mineduc-manifiestan-su-rechazo-a-admision-justa/'"
   ]
  },
  {
   "cell_type": "code",
   "execution_count": 80,
   "metadata": {},
   "outputs": [],
   "source": [
    "from newspaper import Article\n",
    "article = Article(url)"
   ]
  },
  {
   "cell_type": "code",
   "execution_count": 81,
   "metadata": {},
   "outputs": [
    {
     "name": "stdout",
     "output_type": "stream",
     "text": [
      "Padres de niño-actor usado en campaña del Mineduc manifiestan su rechazo a Admisión Justa\n",
      "Sigue la polémica por la utilización de la imagen de un niño para hacer propaganda del proyecto Admisión Justa impulsado por la ministra de Educación, Marcela Cubillos.\n",
      "\n",
      "Esta vez fueron los padres del estudiante, Elías Collado, quienes criticaron al Mineduc y manifestaron su rechazo al proyecto que busca reinstalar la selección por mérito.\n",
      "\n",
      "“Nuestra visita a La Moneda fue por una invitación como alumno destacado de un colegio gratuito… si se usó la imagen y una de las frases dichas por Elías es una tema ético de quien la usó, no nuestro, créame que nuestra intención está muy lejana de apoyar alguna campaña de este tipo”, sostuvieron en una publicación de Instagram que fue difundida por la diputada del Partido Socialista, Daniela Cicardini.\n",
      "\n",
      "“Además ya hicimos ver nuestro malestar y prohibición de vincularlo a la materia“, agregaron.\n"
     ]
    }
   ],
   "source": [
    "article.download()\n",
    "article.parse()\n",
    "print(article.title)\n",
    "print(article.text)"
   ]
  },
  {
   "cell_type": "code",
   "execution_count": 77,
   "metadata": {},
   "outputs": [
    {
     "data": {
      "text/plain": [
       "[]"
      ]
     },
     "execution_count": 77,
     "metadata": {},
     "output_type": "execute_result"
    }
   ],
   "source": [
    "article.authors"
   ]
  },
  {
   "cell_type": "code",
   "execution_count": 78,
   "metadata": {},
   "outputs": [
    {
     "data": {
      "text/plain": [
       "datetime.datetime(2019, 5, 13, 0, 0)"
      ]
     },
     "execution_count": 78,
     "metadata": {},
     "output_type": "execute_result"
    }
   ],
   "source": [
    "article.publish_date"
   ]
  }
 ],
 "metadata": {
  "kernelspec": {
   "display_name": "Python 3",
   "language": "python",
   "name": "python3"
  },
  "language_info": {
   "codemirror_mode": {
    "name": "ipython",
    "version": 3
   },
   "file_extension": ".py",
   "mimetype": "text/x-python",
   "name": "python",
   "nbconvert_exporter": "python",
   "pygments_lexer": "ipython3",
   "version": "3.5.2"
  }
 },
 "nbformat": 4,
 "nbformat_minor": 2
}
