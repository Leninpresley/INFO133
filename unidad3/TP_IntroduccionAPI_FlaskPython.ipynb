{
 "cells": [
  {
   "cell_type": "markdown",
   "metadata": {},
   "source": [
    "## Universidad Austral de Chile - INFO133: Base de Datos\n",
    "\n",
    "### Responsable: Matthieu Vernier, mvernier@inf.uach.cl\n",
    "\n",
    "# TP: Introducción al concepto de API Web usando Flask y Python"
   ]
  },
  {
   "cell_type": "markdown",
   "metadata": {},
   "source": [
    "## 1. Objetivos del notebook\n",
    "\n",
    "Las APIs son aplicaciones muy populares que sirven de interfaz para intercambiar datos entre aplicaciones distintas. Este _notebook_ tiene por objetivos principal de familiarizarse con este concepto:\n",
    "- desarrollando una API básica con Python y la librería Flask,\n",
    "- describiendo algunos principios de buen diseño de API,\n",
    "- y describiendo unas API existentes como las de Twitter por ejemplo. \n",
    "\n",
    "## 2. ¿Qué es una API Web?\n",
    "\n",
    "### 2.1 Definición\n",
    "\n",
    "El termino API (__Application Programming Interface__) no es específico a las aplicaciones web. En informática, en general se refiere a una __parte de un programa diseñado para ser utilizado o manipulado por otro programa__ (ej: métodos públicos de una clase Java). A diferencia de una interfaz diseñada para ser utilizada o manipulada por un ser humano, los programas a menudo necesitan comunicarse entre sí o con el sistema operativo subyacente, y las API son una forma de hacerlo.\n",
    "\n",
    "Una __API web__ permite que la información o funcionalidad de una aplicación sea manipulada por otros programas a través de Internet. Por ejemplo, con la API web de Twitter, puedes escribir un programa en un lenguaje como Python o Javascript que puede realizar tareas como favorecer tweets o recopilar metadatos de tweets.\n",
    "\n",
    "### 2.2 ¿Cuándo crear una API Web?\n",
    "\n",
    "En general, considere crear una API web si queremos compartir datos y:\n",
    "- nuestros datos son grandes, lo que hace que la descarga sea difícil de manejar o requiera muchos recursos.\n",
    "- nuestros datos cambian o se actualizan con frecuencia.\n",
    "\n",
    "- nuestros usuarios necesitarán acceder a sus datos en tiempo real, por ejemplo para mostrarlos en otro sitio web o como parte de una aplicación.\n",
    "- nuestros usuarios sólo necesitan acceder a una parte de los datos en un momento dado.\n",
    "- nuestros usuarios tendrán que realizar acciones distintas a la recuperación de datos, como contribuir, actualizar o eliminar datos.\n",
    "\n",
    "Si tiene datos que desea compartir con el mundo, una API es una forma de ponerlos en manos de otros. Sin embargo, las API no siempre son la mejor manera de compartir datos con los usuarios. Si el tamaño de los datos que está proporcionando es relativamente pequeño, puede proporcionar un __dump de datos__ en forma de archivo descargable JSON, XML, CSV o SQLite. Dependiendo de sus recursos, este enfoque puede ser viable hasta un tamaño de descarga de unos pocos gigabytes.\n",
    "\n",
    "### 2.3 Conceptos asociados: _HTTP_, _URL_, _JSON_, _REST_\n",
    "\n",
    "Al utilizar o crear APIs, encontrará estos términos con frecuencia:\n",
    "\n",
    "- <b>HTTP</b> (Hypertext Transfer Protocol) es un protocolo que implementa una serie de \"métodos\" que permite manipular recursos (datos o aplicaciones) de un servidor desde un computador cliente. Los dos más comunes son GET, que extrae datos de un servidor, y POST, que empuja nuevos datos a un servidor.\n",
    "- <b>URL</b> (Uniform Resource Locator) - Una dirección para un recurso en la web.\n",
    "- <b>JSON</b> (JavaScript Object Notation) es un formato de almacenamiento de datos basado en texto que está diseñado para ser fácil de leer tanto para humanos como para máquinas. JSON es generalmente el formato más común para devolver datos a través de una API, siendo XML el segundo más común.\n",
    "- <b>REST</b> (REpresentational State Transfer) es una filosofía que describe algunas de las mejores prácticas para la implementación de APIs. Las APIs diseñadas teniendo en cuenta algunos o todos estos principios se denominan REST APIs. Aunque la API descrita en esta lección utiliza algunos principios de REST, existe un gran desacuerdo en torno a este término. Por esta razón, no describo las APIs de ejemplo aquí como APIs de REST, sino como APIs web o HTTP.\n",
    "\n",
    "### 2.4 ¿Que quieren los usuarios de una API? ¡Un buen diseño y una buena documentación!\n",
    "\n",
    "La documentación es el punto de partida de un usuario cuando trabaja con una nueva API, y las URL bien diseñadas facilitan a los usuarios la búsqueda intuitiva de recursos. Dado que ayudan a los usuarios a acceder rápidamente a la información a través de su API, estos elementos (documentación y URL bien concebidas) son la condición sine qua non de una buena API. Discutiremos estos elementos en mayor profundidad más adelante en este tutorial.\n",
    "\n",
    "A medida que utilice otras APIs en sus proyectos, desarrollará un sentido de lo que constituye una buena API desde la perspectiva de un usuario potencial. Del mismo modo que los lectores fuertes a menudo hacen escritores fuertes, el uso de APIs creadas por otros y la evaluación crítica de su implementación y documentación le ayudará a diseñar mejor sus propias APIs.\n",
    "\n",
    "Ver APIs de Twitter: https://developer.twitter.com/en/docs.html"
   ]
  },
  {
   "cell_type": "markdown",
   "metadata": {},
   "source": [
    "## 3. Desarrollar una API web básica con Python y Flask\n",
    "\n",
    "### 3.1 Instalación de las librerías\n",
    "\n",
    "Para este tutorial, necesitará Python 3.6 y la librería <i>Flask</i> (una librería Python que permite desarrollar aplicación web). Desde un terminal, instalar la librería <i>Flash</i> con el gestor de paquetes <code>pip</code>:\n",
    "\n",
    "<code>pip3 install flask --user</code>\n",
    "\n",
    "Una vez instalado <code>flask</code>, ejecutar el código siguiente para verificar que se instaló corectamente.\n",
    "\n",
    "NB: Pueden ejecutar el código desde Jupyter Notebook (si lo tienen instalado) o un script Python que pueden llamar <code>server.py</code> por ejemplo."
   ]
  },
  {
   "cell_type": "code",
   "execution_count": null,
   "metadata": {},
   "outputs": [],
   "source": [
    "from flask import Flask\n",
    "app = Flask(__name__)\n",
    "\n",
    "@app.route(\"/\")\n",
    "def hello():\n",
    "    return \"<h1>¡Hola Mundo!</h1> <p>Bienvenido en nuestra aplicación web básica en Python</p>\"\n",
    "\n",
    "if __name__ == \"__main__\":\n",
    "    app.run(debug=False,port=1234)"
   ]
  },
  {
   "cell_type": "markdown",
   "metadata": {},
   "source": [
    "Cuándo ejecuta el código, debe tener un output similar a <code> * Running on http://127.0.0.1:1234/ (Press CTRL+C to quit)</code>\n",
    "\n",
    "También puede ver algunas líneas relacionadas con el <i>debugging</i>. Este mensaje significa que Flask está ejecutando su aplicación localmente (en su ordenador) en esa dirección. Siga el enlace anterior, http://127.0.0.1:1234/, utilizando su navegador web para ver la aplicación en ejecución. "
   ]
  },
  {
   "cell_type": "markdown",
   "metadata": {},
   "source": [
    "### 3.2 ¿Qué hace Flask?\n",
    "\n",
    "__Flask__ es un framework web para Python, lo que significa que proporciona funcionalidad para construir aplicaciones web, incluyendo la gestión de peticiones HTTP y plantillas de renderizado. En esta sección, crearemos una aplicación básica de Flask.\n",
    "\n",
    "Flask __asigna las peticiones HTTP a las funciones de Python__. "
   ]
  },
  {
   "cell_type": "code",
   "execution_count": null,
   "metadata": {},
   "outputs": [],
   "source": [
    "from flask import Flask\n",
    "app = Flask(__name__)\n",
    "\n",
    "@app.route(\"/\")\n",
    "def hello():\n",
    "    return \"<h1>¡Hola Mundo!</h1> <p>Bienvenido en nuestra aplicación web básica en Python</p>\"\n",
    "\n",
    "if __name__ == \"__main__\":\n",
    "    app.run(debug=False,port=1234)"
   ]
  },
  {
   "cell_type": "markdown",
   "metadata": {},
   "source": [
    "En este caso, hemos asignado una ruta URL ('/') a una función, <code>home</code>. Cuando nos conectamos al servidor Flask en http://127.0.0.1:1234/, Flask comprueba si hay una coincidencia entre la ruta proporcionada y una función definida. Flask ejecuta el código en la función y muestra el resultado devuelto en el navegador. En este caso, el resultado devuelto es un marcado HTML para una página de inicio que da la bienvenida a los visitantes al sitio que alberga nuestra futura API.\n",
    "\n",
    "El proceso de asignar URLs a funciones se llama <b>enrutamiento</b> (<i>routing</i>).\n",
    "\n",
    "<code>@app.route('/', methods=['GET'])</code>: es la parte del programa que permite a Flask saber que esta función, home, debe ser asignada a la ruta /. La lista de métodos (methods=['GET']) es un argumento de palabra clave que permite a Flask saber qué tipo de peticiones HTTP están permitidas. Sólo usaremos peticiones GET en este tutorial, pero muchas aplicaciones web necesitan usar tanto peticiones GET (para enviar datos desde la aplicación al usuario) como peticiones POST (para recibir datos de un usuario)."
   ]
  },
  {
   "cell_type": "markdown",
   "metadata": {},
   "source": [
    "### 3.3 Creación de una primera API básica: Catalogo de libros de una librería\n",
    "\n",
    "Vamos a desarrolla una API que propone compartir datos de los libros disponibles en una librería. Además del __título__ y la __fecha de publicación__, nuestra API también indicará la __primera frase__ de cada libro. Estos datos deberían ser suficientes para permitirnos visualizar algunas preguntas potenciales de investigación sin abrumarnos mientras nos enfocamos en el diseño de nuestra API. \n",
    "\n",
    "Primero, cree una nueva carpeta <code>api</code> en su carpeta <code>INFO133</code> que servirá como una carpeta de proyecto. Este tutorial asumirá que los archivos relacionados con este TP se almacenarán en una carpeta llamada <code>api</code>.\n",
    "\n",
    "En un primer tiempo, crearemos datos ficticios como una lista de diccionarios Python. Diccionarios en pares de claves y valores del grupo Python, como este:"
   ]
  },
  {
   "cell_type": "raw",
   "metadata": {},
   "source": [
    "{\n",
    "    'key': 'value',\n",
    "    'key': 'value'\n",
    "}"
   ]
  },
  {
   "cell_type": "markdown",
   "metadata": {},
   "source": [
    "La clave identifica el tipo de información representada, como el título o el id. El valor son los datos reales. Por ejemplo, una guía telefónica corta podría tener este formato:"
   ]
  },
  {
   "cell_type": "raw",
   "metadata": {},
   "source": [
    "[\n",
    "    {\n",
    "        'name': 'Alexander Graham Bell',\n",
    "        'number': '1-333-444-5555'\n",
    "    },\n",
    "    {\n",
    "        'name': 'Thomas A. Watson',\n",
    "        'number': '1-444-555-6666'\n",
    "    }\n",
    "]"
   ]
  },
  {
   "cell_type": "markdown",
   "metadata": {},
   "source": [
    "La guía telefónica anterior es una lista de dos diccionarios. Cada diccionario es una entrada de la guía telefónica que consta de dos claves, nombre y número, cada una con un valor que proporciona la información real.\n",
    "\n",
    "Agregamos algunos datos al código Flask anterior. Cada diccionario contendrá el número de identificación, título, autor, primera frase y año de publicación de cada libro. Finalmente, añadiremos una nueva función: una ruta que permitirá al visitante acceder a nuestros datos.\n",
    "\n",
    "<b>NB: Terminar el proceso de la aplicación web anterior, antes de ejecutar la nueva versión</b>"
   ]
  },
  {
   "cell_type": "code",
   "execution_count": null,
   "metadata": {},
   "outputs": [],
   "source": [
    "import flask\n",
    "from flask import request, jsonify\n",
    "\n",
    "app = flask.Flask(__name__)\n",
    "\n",
    "# Create some test data for our catalog in the form of a list of dictionaries.\n",
    "books = [\n",
    "    {'id': 0,\n",
    "     'title': 'A Fire Upon the Deep',\n",
    "     'author': 'Vernor Vinge',\n",
    "     'first_sentence': 'The coldsleep itself was dreamless.',\n",
    "     'year_published': '1992'},\n",
    "    {'id': 1,\n",
    "     'title': 'The Ones Who Walk Away From Omelas',\n",
    "     'author': 'Ursula K. Le Guin',\n",
    "     'first_sentence': 'With a clamor of bells that set the swallows soaring, the Festival of Summer came to the city Omelas, bright-towered by the sea.',\n",
    "     'published': '1973'},\n",
    "    {'id': 2,\n",
    "     'title': 'Dhalgren',\n",
    "     'author': 'Samuel R. Delany',\n",
    "     'first_sentence': 'to wound the autumnal city.',\n",
    "     'published': '1975'}\n",
    "]\n",
    "\n",
    "\n",
    "@app.route('/', methods=['GET'])\n",
    "def home():\n",
    "    return \"<h1>¡Hola Mundo!</h1> <p>Bienvenido en nuestra aplicación web básica en Python</p>\"\n",
    "\n",
    "# A route to return all of the available entries in our catalog.\n",
    "@app.route('/api/v1/resources/books/all', methods=['GET'])\n",
    "def api_all():\n",
    "    return jsonify(books)\n",
    "\n",
    "app.run(debug=False,port=1234)"
   ]
  },
  {
   "cell_type": "markdown",
   "metadata": {},
   "source": [
    "Una vez que el servidor esté funcionando, visite nuestra URL con la ruta que permite ver los datos en el catálogo:\n",
    "\n",
    "http://127.0.0.1:1234/api/v1/resources/books/all\n",
    "\n",
    "Debería ver la salida JSON de las tres entradas en nuestro catálogo de pruebas. Flask nos proporciona una función <code>jsonify</code> que nos permite convertir listas y diccionarios al formato JSON. En la ruta que creamos, nuestras entradas de libro se convierten de una lista de diccionarios Python a JSON antes de ser devueltas a un usuario.\n",
    "\n",
    "En este punto, ha creado una API que funciona, aunque limitada. En la siguiente sección, permitiremos a los usuarios encontrar libros a través de datos más específicos, como el ID de una entrada."
   ]
  },
  {
   "cell_type": "markdown",
   "metadata": {},
   "source": [
    "### 3.4 Encontrar recursos específicos\n",
    "\n",
    "En este momento, los usuarios sólo pueden ver toda nuestra base de datos, no pueden filtrar ni encontrar recursos específicos. Si bien esto no es un problema con nuestro catálogo de pruebas, rápidamente se volverá menos útil a medida que agreguemos datos. En esta sección, añadiremos una función que permite a los usuarios filtrar los resultados devueltos mediante una petición más específica.\n",
    "\n",
    "A continuación se muestra el código de nuestra nueva aplicación con capacidad de filtrado. Como antes, examinaremos el código más cuidadosamente una vez que lo tenga en funcionamiento."
   ]
  },
  {
   "cell_type": "code",
   "execution_count": null,
   "metadata": {},
   "outputs": [],
   "source": [
    "import flask\n",
    "from flask import request, jsonify\n",
    "\n",
    "app = flask.Flask(__name__)\n",
    "\n",
    "# Create some test data for our catalog in the form of a list of dictionaries.\n",
    "books = [\n",
    "    {'id': 0,\n",
    "     'title': 'A Fire Upon the Deep',\n",
    "     'author': 'Vernor Vinge',\n",
    "     'first_sentence': 'The coldsleep itself was dreamless.',\n",
    "     'year_published': '1992'},\n",
    "    {'id': 1,\n",
    "     'title': 'The Ones Who Walk Away From Omelas',\n",
    "     'author': 'Ursula K. Le Guin',\n",
    "     'first_sentence': 'With a clamor of bells that set the swallows soaring, the Festival of Summer came to the city Omelas, bright-towered by the sea.',\n",
    "     'published': '1973'},\n",
    "    {'id': 2,\n",
    "     'title': 'Dhalgren',\n",
    "     'author': 'Samuel R. Delany',\n",
    "     'first_sentence': 'to wound the autumnal city.',\n",
    "     'published': '1975'}\n",
    "]\n",
    "\n",
    "\n",
    "@app.route('/', methods=['GET'])\n",
    "def home():\n",
    "    return '''<h1>Nuestra API: Open Books</h1>\n",
    "<p>Un prototipo de API para acceder a libros de ciencia ficción.</p>'''\n",
    "\n",
    "\n",
    "@app.route('/api/v1/resources/books/all', methods=['GET'])\n",
    "def api_all():\n",
    "    return jsonify(books)\n",
    "\n",
    "\n",
    "@app.route('/api/v1/resources/books', methods=['GET'])\n",
    "def api_id():\n",
    "    # Check if an ID was provided as part of the URL.\n",
    "    # If ID is provided, assign it to a variable.\n",
    "    # If no ID is provided, display an error in the browser.\n",
    "    if 'id' in request.args:\n",
    "        id = int(request.args['id'])\n",
    "    else:\n",
    "        return \"Error: No id field provided. Please specify an id.\"\n",
    "\n",
    "    # Create an empty list for our results\n",
    "    results = []\n",
    "\n",
    "    # Loop through the data and match results that fit the requested ID.\n",
    "    # IDs are unique, but other fields might return many results\n",
    "    for book in books:\n",
    "        if book['id'] == id:\n",
    "            results.append(book)\n",
    "\n",
    "    # Use the jsonify function from Flask to convert our list of\n",
    "    # Python dictionaries to the JSON format.\n",
    "    return jsonify(results)\n",
    "\n",
    "\n",
    "app.run(debug=False,port=1234)"
   ]
  },
  {
   "cell_type": "markdown",
   "metadata": {},
   "source": [
    "Visite las siguientes URLs para probar la nueva capacidad de su API:\n",
    "\n",
    "- http://127.0.0.1:1234/api/v1/resources/books?id=0\n",
    "- http://127.0.0.1:1234/api/v1/resources/books?id=1\n",
    "- http://127.0.0.1:1234/api/v1/resources/books?id=2\n",
    "- http://127.0.0.1:1234/api/v1/resources/books?id=3\n",
    "\n",
    "Cada uno de ellos debe devolver una entrada diferente, excepto el último, que debe devolver una lista vacía: [], ya que no hay ningún libro para el cual el valor de id sea 3. (El conteo en la programación típicamente comienza en 0, así que id=3 sería una petición para un cuarto ítem inexistente.\n",
    "\n",
    "Examine la URL proporcionada para una identificación y seleccione los libros que coincidan con esa identificación. La identificación debe ser proporcionada de esta manera: <code>?id=0</code>. Los datos pasados a través de URLs como ésta (después del ?) se llaman <b>parámetros de consulta</b>. Son una característica de HTTP utilizada para filtrar tipos específicos de datos."
   ]
  },
  {
   "cell_type": "markdown",
   "metadata": {},
   "source": [
    "## 4. Creación de una segunda API básica conectada a un SGBD MySQL\n",
    "\n",
    "Vamos a crear una segunda API pero esta vez la API será conectada a MySQL para gestionar el almacenamiento de los datos.\n",
    "\n",
    "La Base de Datos utilizada en esta sección es la base '_classicmodels_', una base de datos que hemos utizada en TPs anteriores y que ya debería estar disponible en su servidor MySQL.\n",
    "\n",
    "Primero nos conectaremos a MySQL desde Python. Utilizaremos un paquete que gestiona la conexión entre MySQL y Python:\n",
    "\n",
    "<code>pip3 install mysql-connector --user</code>"
   ]
  },
  {
   "cell_type": "code",
   "execution_count": null,
   "metadata": {},
   "outputs": [],
   "source": [
    "import mysql.connector\n",
    "\n",
    "# Conexión al SGBD\n",
    "## reemplazar 'root' por el password del usuario administrador de MySQL\n",
    "conn = mysql.connector.connect(user=\"root\",host=\"localhost\",password=\"root\")\n",
    "cursor = conn.cursor()\n",
    "cursor.execute(\"USE classicmodels\")"
   ]
  },
  {
   "cell_type": "markdown",
   "metadata": {},
   "source": [
    "Creamos una API Web Flask que gestiona la lectura de una tabla de la base 'classicmodels':"
   ]
  },
  {
   "cell_type": "code",
   "execution_count": null,
   "metadata": {},
   "outputs": [],
   "source": [
    "import flask\n",
    "import json\n",
    "from flask import request, jsonify\n",
    "\n",
    "# Creación de una nueva aplicación web\n",
    "app = flask.Flask(__name__)\n",
    "\n",
    "# Definición de las rutas\n",
    "\n",
    "@app.route('/', methods=['GET'])\n",
    "def home():\n",
    "    return '''<h1>API ClassicModels</h1>\n",
    "<p>Un prototipo de API para la base de datos ClassicModels.</p>'''\n",
    "\n",
    "@app.errorhandler(404)\n",
    "def page_not_found(e):\n",
    "    return \"<h1>404</h1><p>The resource could not be found.</p>\", 404\n",
    "\n",
    "@app.route('/api_classic/v1/resources/products/all', methods=['GET'])\n",
    "def api_all():\n",
    "    ## Consultar MySQL para obtener datos sobre los productos\n",
    "    result=cursor.execute(\n",
    "        'SELECT productCode, productName, productLine, productDescription, quantityInStock, buyPrice'\n",
    "        +' FROM products;')\n",
    "    all_films =cursor.fetchall()\n",
    "    ## Conservar el nombre de los atributos\n",
    "    row_headers=[x[0] for x in cursor.description]\n",
    "    ## Transformar resultados en datos JSON\n",
    "    json_data=[]\n",
    "    for result in all_films:\n",
    "        json_data.append(dict(zip(row_headers,result)))\n",
    "    return jsonify(json_data)\n",
    "\n",
    "@app.route('/api_classic/v1/resources/products', methods=['GET'])\n",
    "def api_filter():\n",
    "    ## Definir parametros posibles\n",
    "    query_parameters = request.args\n",
    "\n",
    "    quantityInStock = query_parameters.get('qty')\n",
    "    productName = query_parameters.get('productName')\n",
    "    \n",
    "    ##Construir la consulta SQL según parametros\n",
    "    query = \"SELECT productCode, productName, productLine, productDescription, quantityInStock FROM products WHERE\"\n",
    "    to_filter = []\n",
    "\n",
    "    if quantityInStock:\n",
    "        query += ' quantityInStock>=%s AND'\n",
    "        to_filter.append(float(quantityInStock))\n",
    "    if productName:\n",
    "        query+= ' productName=%s AND'\n",
    "        to_filter.append(productName)\n",
    "    if not (quantityInStock):\n",
    "        return page_not_found(404)\n",
    "\n",
    "    query = query[:-4] + ';'\n",
    "    \n",
    "    print(query)\n",
    "    print(to_filter)\n",
    "    \n",
    "    ## Consultar\n",
    "    results=cursor.execute(query,to_filter)\n",
    "    print(results)\n",
    "    some_products =cursor.fetchall()\n",
    "    ## Conservar el nombre de los atributos\n",
    "    row_headers=[x[0] for x in cursor.description]\n",
    "    ## Transformar resultados en datos JSON\n",
    "    json_data=[]\n",
    "    for result in some_products:\n",
    "        json_data.append(dict(zip(row_headers,result)))\n",
    "    return jsonify(json_data)\n",
    "\n",
    "app.run(debug=False,port=1234)"
   ]
  },
  {
   "cell_type": "markdown",
   "metadata": {},
   "source": [
    "Se puede probar la API Web con la consulta siguiente por ejemplo: \n",
    "http://127.0.0.1:1234/api_classic/v1/resources/products?qty=10&productName=1968%20Ford%20Mustang"
   ]
  },
  {
   "cell_type": "markdown",
   "metadata": {},
   "source": [
    "## 5. Buenas prácticas de diseño de API\n",
    "\n",
    "Antes de incluir más funcionalidad en nuestra aplicación, reflexionemos sobre algunas de las decisiones de diseño de API que hemos tomado hasta ahora. Dos aspectos de una buena API son la usabilidad y la mantenibilidad, y a medida que incorporemos más funcionalidad a nuestra API, tendremos en cuenta muchas de las siguientes consideraciones.\n",
    "\n",
    "### 5.1 Definir acciones sobre los recursos con POST, GET, PUT y DELETE"
   ]
  },
  {
   "cell_type": "markdown",
   "metadata": {},
   "source": [
    "La filosofía de diseño predominante de las API modernas se llama REST. Para nuestros propósitos, lo más importante de REST es que se basa en los cuatro métodos definidos por el protocolo HTTP: POST, GET, PUT y DELETE. Estas corresponden a las cuatro acciones tradicionales realizadas sobre los datos de una base de datos: CREAR, LEER, ACTUALIZAR y BORRAR. En este tutorial, sólo nos ocuparemos de las peticiones GET, que corresponden a la lectura de una base de datos.\n",
    "\n",
    "### 5.2 Evitar incluir el tipo de acción en el URL\n",
    "\n",
    "Consideremos un ejemplo débil o mal diseñado de un punto final de la API:"
   ]
  },
  {
   "cell_type": "markdown",
   "metadata": {},
   "source": [
    "<code> http://api.example.com/getbook/10 </code>"
   ]
  },
  {
   "cell_type": "markdown",
   "metadata": {},
   "source": [
    "El formato de esta consulta tiene varios problemas. El primero es semántico - en una API REST, nuestros verbos son típicamente GET, POST, PUT, o DELETE, y están determinados por el método de petición en lugar de por la URL de petición. Esto significa que la palabra \"get\" no debería aparecer en nuestra petición, ya que \"get\" está implícito en el hecho de que estamos usando un método HTTP GET. Además, las colecciones de recursos, como los libros o los usuarios, deben indicarse con sustantivos plurales. Esto deja claro cuando una API se refiere a una colección (libros) o una entrada (libro). Incorporando estos principios, nuestra API se vería así:"
   ]
  },
  {
   "cell_type": "markdown",
   "metadata": {},
   "source": [
    "<code>http://api.example.com/books/10</code>"
   ]
  },
  {
   "cell_type": "markdown",
   "metadata": {},
   "source": [
    "### 5.3 Evitar poner parametros en la ruta, mejor definirlos como parámetros\n",
    "\n",
    "La consulta anterior utiliza parte de la ruta (/10) para proporcionar el ID. Aunque este no es un enfoque poco común, es un algo inflexible: con las URL construidas de esta manera, por lo general sólo se puede filtrar por un campo a la vez. Los parámetros de consulta permiten filtrar por múltiples campos de base de datos y tienen más sentido cuando se proporcionan datos \"opcionales\", como un formato de salida:"
   ]
  },
  {
   "cell_type": "markdown",
   "metadata": {},
   "source": [
    "<code>http://api.example.com/books?author=Ursula+K.+LeGuin&published=1969&output=xml</code>"
   ]
  },
  {
   "cell_type": "markdown",
   "metadata": {},
   "source": [
    "### 5.4 Planificar las adiciones futuras"
   ]
  },
  {
   "cell_type": "markdown",
   "metadata": {},
   "source": [
    "Al diseñar cómo deben estructurarse las consultas a su API, también tiene sentido planificar las adiciones futuras. Incluso si la versión actual de su API sólo ofrece información sobre un tipo de recursos (por ejemplo, libros), tiene sentido planificar como si pudiera añadir otros recursos o funciones que no sean recursos a su API en el futuro:"
   ]
  },
  {
   "cell_type": "markdown",
   "metadata": {},
   "source": [
    "<code>http://api.example.com/resources/books?id=10</code>"
   ]
  },
  {
   "cell_type": "markdown",
   "metadata": {},
   "source": [
    "Agregar un segmento adicional en la ruta, como \"recursos\" o \"entradas\", le da la opción de permitir que los usuarios busquen en todos los recursos disponibles, lo que le facilita las solicitudes de soporte posteriores como éstas:"
   ]
  },
  {
   "cell_type": "markdown",
   "metadata": {},
   "source": [
    "<code>https://api.example.com/v1/resources/images?id=10</code>\n",
    "\n",
    "<code>https://api.example.com/v1/resources/all</code>"
   ]
  },
  {
   "cell_type": "markdown",
   "metadata": {},
   "source": [
    "### 5.5 Definir versiones de su API"
   ]
  },
  {
   "cell_type": "markdown",
   "metadata": {},
   "source": [
    "Otra forma de planificar el futuro de su API es añadir un número de versión a la ruta. Esto significa que, en caso de que tenga que rediseñar su API, puede seguir soportando la versión antigua de la API con el número de versión antiguo mientras libera, por ejemplo, una segunda versión (v2) con funcionalidad mejorada o diferente. De esta manera, las aplicaciones y los scripts creados utilizando la versión antigua de su API no dejarán de funcionar después de la actualización.\n",
    "\n",
    "Después de incorporar estas mejoras de diseño, una solicitud a nuestra API podría verse así:"
   ]
  },
  {
   "cell_type": "markdown",
   "metadata": {},
   "source": [
    "<code>https://api.example.com/v1/resources/books?id=10</code>"
   ]
  },
  {
   "cell_type": "markdown",
   "metadata": {},
   "source": [
    "### 5.6 Inspirarse de otras API bien estructuradas y documentadas\n",
    "\n",
    "Sin documentación, incluso la API mejor diseñada será inutilizable. Su API debe tener documentación que describa los recursos o la funcionalidad disponibles a través de su API que también proporcione ejemplos concretos de URL de solicitud o código para su API. Debe tener una sección para cada recurso que describa qué campos, como el id o el título, acepta. Cada sección debe tener un ejemplo en forma de una solicitud HTTP de ejemplo o un bloque de código."
   ]
  },
  {
   "cell_type": "markdown",
   "metadata": {},
   "source": [
    "Para obtener inspiración sobre cómo abordar la documentación de la API, consulte por ejemplo las API siguientes:\n",
    "\n",
    "- <a href=\"http://api.repo.nypl.org/\">New York Public Library Digital Collections API</a>\n",
    "- <a href=\"https://datahelpdesk.worldbank.org/knowledgebase/articles/889392-api-documentation\">World Bank API</a>\n",
    "- <a href=\"https://developer.nytimes.com/\">las APIS del New York Times</a>\n",
    "- <a href=\"https://pro.europeana.eu/resources/apis\">Europeana Pro API</a>\n",
    "- <a href=\"https://developer.twitter.com/en/docs.html\">APIs de Twitter</a>"
   ]
  },
  {
   "cell_type": "markdown",
   "metadata": {},
   "source": [
    "## 6. Recursos\n",
    "\n",
    "- Tutorial completo para desarrollar aplicaciones web con Flask: <a href=\"https://blog.miguelgrinberg.com/post/the-flask-mega-tutorial-part-i-hello-world\">The Flask Mega Tutorial</a>\n",
    "\n",
    "Algunas API abiertas bacanas:\n",
    "\n",
    "- <a href=\"https://core.ac.uk/\">Connecting Repositories (CORE) - A collection of open access articles from various sources hosted by the Open University.</a>\n",
    "\n",
    "- <a href=\"http://hds.essex.ac.uk/\">History Data Service (HDS) - A collection of data from a wide variety of historical sources.</a>\n",
    "\n",
    "- <a href=\"https://pro.europeana.eu/\">Europeana</a>\n",
    "\n",
    "- <a href=\"https://openlibrary.org/developers/api\">Open Library</a>\n",
    "\n",
    "- <a href=\"https://diggingintodata.org/repositories\">Digging into Data API List</a>\n",
    "\n"
   ]
  },
  {
   "cell_type": "markdown",
   "metadata": {},
   "source": [
    "## 7. Ejercicios sobre la API 'classicmodels'\n",
    "\n",
    "1) Diseñar el punto de acceso que permitiría a un cliente dado ver sus datos personales.\n",
    "\n",
    "2) Diseñar el punto de acceso que permitiría a un cliente dado ver los productos que ya ha comprado.\n",
    "\n",
    "3) Diseñar el punto de acceso que permitiría añadir un nuevo empleado y asignarlo a una oficina"
   ]
  },
  {
   "cell_type": "markdown",
   "metadata": {},
   "source": [
    "## 8. Ejercicios sobre la API 'Twitter'\n",
    "\n",
    "1) Conectarse a la API 'Search' de Twitter para recopilar los últimos tweets que contienen la palabra \"valdiviacl\"\n",
    "\n",
    "2) En python, realizar un script que recopila datos desde la API de twitter y lo almacena en una tabla MySQL."
   ]
  }
 ],
 "metadata": {
  "kernelspec": {
   "display_name": "Python 3",
   "language": "python",
   "name": "python3"
  },
  "language_info": {
   "codemirror_mode": {
    "name": "ipython",
    "version": 3
   },
   "file_extension": ".py",
   "mimetype": "text/x-python",
   "name": "python",
   "nbconvert_exporter": "python",
   "pygments_lexer": "ipython3",
   "version": "3.5.2"
  }
 },
 "nbformat": 4,
 "nbformat_minor": 2
}
